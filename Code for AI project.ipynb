{
 "cells": [
  {
   "cell_type": "markdown",
   "metadata": {
    "id": "_D1OADRBMFB4"
   },
   "source": [
    "This notebook is used to compile all our models and compare them along with some standardized format. Make sure your code output fits as input to this standardized format, such that it only needs to be imported and can run from the get-go.\n",
    "\n",
    "I'll also build some plotter to make this work well and of course ensure there is proper docstrings and comments\n",
    "\n",
    "(If you want to make your folder importable, like I did with Code_Emiel, simply add an empty __init__.py to the folder)"
   ]
  },
  {
   "cell_type": "markdown",
   "metadata": {
    "id": "wyH05nBUN1cS"
   },
   "source": [
    "**Emiel's code:**"
   ]
  },
  {
   "cell_type": "code",
   "execution_count": 11,
   "metadata": {
    "colab": {
     "base_uri": "https://localhost:8080/",
     "height": 185
    },
    "executionInfo": {
     "elapsed": 26,
     "status": "error",
     "timestamp": 1747170045635,
     "user": {
      "displayName": "Emiel Nagel",
      "userId": "01626522335705697756"
     },
     "user_tz": -120
    },
    "id": "XPS0t5SIL9DQ",
    "outputId": "fc911ae0-368a-4c86-ee28-23d6096b9a76"
   },
   "outputs": [
    {
     "ename": "AttributeError",
     "evalue": "module 'Code_Emiel.Robust_PCA' has no attribute 'main'",
     "output_type": "error",
     "traceback": [
      "\u001b[31m---------------------------------------------------------------------------\u001b[39m",
      "\u001b[31mAttributeError\u001b[39m                            Traceback (most recent call last)",
      "\u001b[36mCell\u001b[39m\u001b[36m \u001b[39m\u001b[32mIn[11]\u001b[39m\u001b[32m, line 16\u001b[39m\n\u001b[32m     13\u001b[39m \u001b[38;5;28;01mfrom\u001b[39;00m\u001b[38;5;250m \u001b[39m\u001b[34;01mCode_Emiel\u001b[39;00m\u001b[38;5;250m \u001b[39m\u001b[38;5;28;01mimport\u001b[39;00m Robust_PCA \u001b[38;5;28;01mas\u001b[39;00m rpca_emiel\n\u001b[32m     15\u001b[39m \u001b[38;5;66;03m# print(elliptic_envelope_emiel.main())\u001b[39;00m\n\u001b[32m---> \u001b[39m\u001b[32m16\u001b[39m \u001b[38;5;28mprint\u001b[39m(\u001b[43mrpca_emiel\u001b[49m\u001b[43m.\u001b[49m\u001b[43mmain\u001b[49m())\n",
      "\u001b[31mAttributeError\u001b[39m: module 'Code_Emiel.Robust_PCA' has no attribute 'main'"
     ]
    }
   ],
   "source": [
    "# Elliptic Envelope:\n",
    "# !pip install numpy\n",
    "# !pip install sklearn\n",
    "# !pip install scipy\n",
    "# !pip install matplotlib\n",
    "# !pip install pandas\n",
    "# !pip install seaborn\n",
    "from Code_Emiel import Elliptic_Envelope as elliptic_envelope_emiel\n",
    "\n",
    "# Robust PCA\n",
    "# !pip install rpca\n",
    "# !pip install pyrpca\n",
    "from Code_Emiel import Robust_PCA as rpca_emiel\n",
    "\n",
    "# print(elliptic_envelope_emiel.main())\n",
    "print(rpca_emiel.main())\n"
   ]
  },
  {
   "cell_type": "code",
   "execution_count": null,
   "metadata": {
    "id": "Jd2OLiCwOCgZ"
   },
   "outputs": [],
   "source": [
    "\n"
   ]
  }
 ],
 "metadata": {
  "colab": {
   "authorship_tag": "ABX9TyOIZibouf6EILUS6jXpZ9Bd",
   "provenance": []
  },
  "kernelspec": {
   "display_name": ".venv",
   "language": "python",
   "name": "python3"
  },
  "language_info": {
   "codemirror_mode": {
    "name": "ipython",
    "version": 3
   },
   "file_extension": ".py",
   "mimetype": "text/x-python",
   "name": "python",
   "nbconvert_exporter": "python",
   "pygments_lexer": "ipython3",
   "version": "3.12.4"
  }
 },
 "nbformat": 4,
 "nbformat_minor": 0
}
